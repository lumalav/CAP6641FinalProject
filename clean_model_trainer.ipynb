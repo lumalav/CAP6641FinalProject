{
 "cells": [
  {
   "cell_type": "code",
   "execution_count": 3,
   "metadata": {},
   "outputs": [],
   "source": [
    "# import pandas as pd\n",
    "\n",
    "# data = pd.read_csv('twitter.csv')\n",
    "# data = data.drop(columns=['textID', 'Time of Tweet', 'Age of User', 'Country', 'Population','Land Area','Density'], axis=1)\n",
    "\n",
    "# data = data[data['text'].notna()]\n",
    "# data = data[data['sentiment'] != 'neutral']\n",
    "\n",
    "# data['label'] = data['sentiment'].astype('category').cat.codes\n",
    "# data = data.drop('sentiment', axis = 1)\n",
    "\n",
    "import pandas as pd\n",
    "\n",
    "data = pd.read_csv('twitter_train.csv')\n",
    "data = data.reindex(columns=['text','label'])\n"
   ]
  },
  {
   "cell_type": "code",
   "execution_count": 6,
   "metadata": {},
   "outputs": [
    {
     "name": "stderr",
     "output_type": "stream",
     "text": [
      "Some weights of the model checkpoint at roberta-base were not used when initializing RobertaForSequenceClassification: ['lm_head.layer_norm.weight', 'lm_head.bias', 'lm_head.decoder.weight', 'roberta.pooler.dense.bias', 'lm_head.layer_norm.bias', 'lm_head.dense.bias', 'roberta.pooler.dense.weight', 'lm_head.dense.weight']\n",
      "- This IS expected if you are initializing RobertaForSequenceClassification from the checkpoint of a model trained on another task or with another architecture (e.g. initializing a BertForSequenceClassification model from a BertForPreTraining model).\n",
      "- This IS NOT expected if you are initializing RobertaForSequenceClassification from the checkpoint of a model that you expect to be exactly identical (initializing a BertForSequenceClassification model from a BertForSequenceClassification model).\n",
      "Some weights of RobertaForSequenceClassification were not initialized from the model checkpoint at roberta-base and are newly initialized: ['classifier.dense.weight', 'classifier.out_proj.bias', 'classifier.dense.bias', 'classifier.out_proj.weight']\n",
      "You should probably TRAIN this model on a down-stream task to be able to use it for predictions and inference.\n"
     ]
    }
   ],
   "source": [
    "from simpletransformers.classification import ClassificationModel\n",
    "\n",
    "model = ClassificationModel('roberta', 'roberta-base', num_labels=2, use_cuda=True, args={'learning_rate':1e-4, 'num_train_epochs': 6, 'reprocess_input_data': False, 'overwrite_output_dir': False, 'threshold': 0.8, 'output_dir': 'clean-model'})"
   ]
  },
  {
   "cell_type": "code",
   "execution_count": 7,
   "metadata": {},
   "outputs": [
    {
     "name": "stderr",
     "output_type": "stream",
     "text": [
      "c:\\Users\\llavieri\\.conda\\envs\\project6641\\lib\\site-packages\\simpletransformers\\classification\\classification_model.py:612: UserWarning: Dataframe headers not specified. Falling back to using column 0 as text and column 1 as labels.\n",
      "  warnings.warn(\n",
      "Epochs 0/6. Running Loss:    0.6985: 100%|██████████| 4/4 [00:04<00:00,  1.23s/it]\n",
      "Epochs 1/6. Running Loss:    0.4324: 100%|██████████| 4/4 [00:00<00:00,  5.26it/s]\n",
      "Epochs 2/6. Running Loss:    0.0601: 100%|██████████| 4/4 [00:00<00:00,  6.00it/s]\n",
      "Epochs 3/6. Running Loss:    0.0067: 100%|██████████| 4/4 [00:00<00:00,  5.45it/s]\n",
      "Epochs 4/6. Running Loss:    0.0027: 100%|██████████| 4/4 [00:00<00:00,  6.01it/s]\n",
      "Epochs 5/6. Running Loss:    0.0017: 100%|██████████| 4/4 [00:00<00:00,  6.06it/s]\n",
      "Epoch 6 of 6: 100%|██████████| 6/6 [00:20<00:00,  3.35s/it]\n"
     ]
    },
    {
     "data": {
      "text/plain": [
       "(24, 0.24269352853298187)"
      ]
     },
     "execution_count": 7,
     "metadata": {},
     "output_type": "execute_result"
    }
   ],
   "source": [
    "model.train_model(data)"
   ]
  }
 ],
 "metadata": {
  "kernelspec": {
   "display_name": "cap6641project",
   "language": "python",
   "name": "python3"
  },
  "language_info": {
   "codemirror_mode": {
    "name": "ipython",
    "version": 3
   },
   "file_extension": ".py",
   "mimetype": "text/x-python",
   "name": "python",
   "nbconvert_exporter": "python",
   "pygments_lexer": "ipython3",
   "version": "3.10.10"
  },
  "orig_nbformat": 4
 },
 "nbformat": 4,
 "nbformat_minor": 2
}
